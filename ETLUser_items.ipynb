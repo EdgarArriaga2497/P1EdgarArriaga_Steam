{
 "cells": [
  {
   "cell_type": "code",
   "execution_count": 2,
   "metadata": {},
   "outputs": [],
   "source": [
    "import pandas as pd\n",
    "import gzip\n",
    "import json\n",
    "import numpy as np\n",
    "import os\n",
    "import ast"
   ]
  },
  {
   "cell_type": "markdown",
   "metadata": {},
   "source": [
    "## Analisis de User_Items"
   ]
  },
  {
   "cell_type": "code",
   "execution_count": 3,
   "metadata": {},
   "outputs": [],
   "source": [
    "\n",
    "# Ruta del archivo comprimido\n",
    "file_path = 'C:/Users/Edgar/OneDrive/Escritorio/ProyectoFinal1HenryNuevo/users_items.json.gz'\n",
    "# Definimos una función leer_Json_gzip() que lee los archivos 'comprimidos.json.gz` y devuelve una lista de diccionarios Python.\n",
    "def leer_json_gzip(nombreArchivo):\n",
    "\n",
    "    # Abrimos el archivo users_items.json.gz en modo de lectura y decodificamos el contenido del archivo.\n",
    "    with gzip.open(nombreArchivo, 'rt', encoding='utf-8') as miArchivo:\n",
    "\n",
    "        # Recorremos el contenido del archivo y evaluamos cada línea como una expresión Python.\n",
    "        # El resultado de la evaluación es un diccionario Python.\n",
    "        # La función strip() elimina los espacios en blanco al principio y al final de la línea.\n",
    "        return [ast.literal_eval(line.strip()) for line in miArchivo]\n",
    "    #Usamos ast.literal_eval para convertir cada linea en un diccionario y lo agregamos a la lista"
   ]
  },
  {
   "cell_type": "code",
   "execution_count": 4,
   "metadata": {},
   "outputs": [],
   "source": [
    "dfitems = leer_json_gzip('C:/Users/Edgar/OneDrive/Escritorio/ProyectoFinal1HenryNuevo/users_items.json.gz')"
   ]
  },
  {
   "cell_type": "code",
   "execution_count": 5,
   "metadata": {},
   "outputs": [
    {
     "data": {
      "text/html": [
       "<div>\n",
       "<style scoped>\n",
       "    .dataframe tbody tr th:only-of-type {\n",
       "        vertical-align: middle;\n",
       "    }\n",
       "\n",
       "    .dataframe tbody tr th {\n",
       "        vertical-align: top;\n",
       "    }\n",
       "\n",
       "    .dataframe thead th {\n",
       "        text-align: right;\n",
       "    }\n",
       "</style>\n",
       "<table border=\"1\" class=\"dataframe\">\n",
       "  <thead>\n",
       "    <tr style=\"text-align: right;\">\n",
       "      <th></th>\n",
       "      <th>item_id</th>\n",
       "      <th>item_name</th>\n",
       "      <th>playtime_forever</th>\n",
       "      <th>playtime_2weeks</th>\n",
       "      <th>user_id</th>\n",
       "      <th>steam_id</th>\n",
       "      <th>items_count</th>\n",
       "    </tr>\n",
       "  </thead>\n",
       "  <tbody>\n",
       "    <tr>\n",
       "      <th>0</th>\n",
       "      <td>10</td>\n",
       "      <td>Counter-Strike</td>\n",
       "      <td>6</td>\n",
       "      <td>0</td>\n",
       "      <td>76561197970982479</td>\n",
       "      <td>76561197970982479</td>\n",
       "      <td>277</td>\n",
       "    </tr>\n",
       "    <tr>\n",
       "      <th>1</th>\n",
       "      <td>20</td>\n",
       "      <td>Team Fortress Classic</td>\n",
       "      <td>0</td>\n",
       "      <td>0</td>\n",
       "      <td>76561197970982479</td>\n",
       "      <td>76561197970982479</td>\n",
       "      <td>277</td>\n",
       "    </tr>\n",
       "    <tr>\n",
       "      <th>2</th>\n",
       "      <td>30</td>\n",
       "      <td>Day of Defeat</td>\n",
       "      <td>7</td>\n",
       "      <td>0</td>\n",
       "      <td>76561197970982479</td>\n",
       "      <td>76561197970982479</td>\n",
       "      <td>277</td>\n",
       "    </tr>\n",
       "  </tbody>\n",
       "</table>\n",
       "</div>"
      ],
      "text/plain": [
       "  item_id              item_name  playtime_forever  playtime_2weeks  \\\n",
       "0      10         Counter-Strike                 6                0   \n",
       "1      20  Team Fortress Classic                 0                0   \n",
       "2      30          Day of Defeat                 7                0   \n",
       "\n",
       "             user_id           steam_id items_count  \n",
       "0  76561197970982479  76561197970982479         277  \n",
       "1  76561197970982479  76561197970982479         277  \n",
       "2  76561197970982479  76561197970982479         277  "
      ]
     },
     "execution_count": 5,
     "metadata": {},
     "output_type": "execute_result"
    }
   ],
   "source": [
    "dfitems= pd.json_normalize(dfitems, record_path=['items'], meta=['user_id', 'steam_id','items_count'] )\n",
    "dfitems.head(3)"
   ]
  },
  {
   "cell_type": "code",
   "execution_count": 6,
   "metadata": {},
   "outputs": [
    {
     "name": "stdout",
     "output_type": "stream",
     "text": [
      "<class 'pandas.core.frame.DataFrame'>\n",
      "RangeIndex: 5153209 entries, 0 to 5153208\n",
      "Data columns (total 7 columns):\n",
      " #   Column            Dtype \n",
      "---  ------            ----- \n",
      " 0   item_id           object\n",
      " 1   item_name         object\n",
      " 2   playtime_forever  int64 \n",
      " 3   playtime_2weeks   int64 \n",
      " 4   user_id           object\n",
      " 5   steam_id          object\n",
      " 6   items_count       object\n",
      "dtypes: int64(2), object(5)\n",
      "memory usage: 275.2+ MB\n"
     ]
    }
   ],
   "source": [
    "dfitems.info()"
   ]
  },
  {
   "cell_type": "code",
   "execution_count": 7,
   "metadata": {},
   "outputs": [],
   "source": [
    "dfitems['item_id'] = dfitems['item_id'].astype(np.int64)"
   ]
  },
  {
   "cell_type": "code",
   "execution_count": 8,
   "metadata": {},
   "outputs": [
    {
     "name": "stdout",
     "output_type": "stream",
     "text": [
      "<class 'pandas.core.frame.DataFrame'>\n",
      "RangeIndex: 5153209 entries, 0 to 5153208\n",
      "Data columns (total 7 columns):\n",
      " #   Column            Dtype \n",
      "---  ------            ----- \n",
      " 0   item_id           int64 \n",
      " 1   item_name         object\n",
      " 2   playtime_forever  int64 \n",
      " 3   playtime_2weeks   int64 \n",
      " 4   user_id           object\n",
      " 5   steam_id          object\n",
      " 6   items_count       object\n",
      "dtypes: int64(3), object(4)\n",
      "memory usage: 275.2+ MB\n"
     ]
    }
   ],
   "source": [
    "dfitems.info()"
   ]
  },
  {
   "cell_type": "code",
   "execution_count": 9,
   "metadata": {},
   "outputs": [
    {
     "data": {
      "text/plain": [
       "item_id             0\n",
       "item_name           0\n",
       "playtime_forever    0\n",
       "playtime_2weeks     0\n",
       "user_id             0\n",
       "steam_id            0\n",
       "items_count         0\n",
       "dtype: int64"
      ]
     },
     "execution_count": 9,
     "metadata": {},
     "output_type": "execute_result"
    }
   ],
   "source": [
    "dfitems.isna().sum()"
   ]
  },
  {
   "cell_type": "code",
   "execution_count": 10,
   "metadata": {},
   "outputs": [],
   "source": [
    "# remove columns that not use\n",
    "dfitems.drop(['playtime_2weeks'], axis=1, inplace=True)\n"
   ]
  },
  {
   "cell_type": "code",
   "execution_count": 11,
   "metadata": {},
   "outputs": [
    {
     "data": {
      "text/html": [
       "<div>\n",
       "<style scoped>\n",
       "    .dataframe tbody tr th:only-of-type {\n",
       "        vertical-align: middle;\n",
       "    }\n",
       "\n",
       "    .dataframe tbody tr th {\n",
       "        vertical-align: top;\n",
       "    }\n",
       "\n",
       "    .dataframe thead th {\n",
       "        text-align: right;\n",
       "    }\n",
       "</style>\n",
       "<table border=\"1\" class=\"dataframe\">\n",
       "  <thead>\n",
       "    <tr style=\"text-align: right;\">\n",
       "      <th></th>\n",
       "      <th>item_id</th>\n",
       "      <th>item_name</th>\n",
       "      <th>playtime_forever</th>\n",
       "      <th>user_id</th>\n",
       "      <th>steam_id</th>\n",
       "      <th>items_count</th>\n",
       "    </tr>\n",
       "  </thead>\n",
       "  <tbody>\n",
       "    <tr>\n",
       "      <th>0</th>\n",
       "      <td>10</td>\n",
       "      <td>Counter-Strike</td>\n",
       "      <td>6</td>\n",
       "      <td>76561197970982479</td>\n",
       "      <td>76561197970982479</td>\n",
       "      <td>277</td>\n",
       "    </tr>\n",
       "    <tr>\n",
       "      <th>1</th>\n",
       "      <td>20</td>\n",
       "      <td>Team Fortress Classic</td>\n",
       "      <td>0</td>\n",
       "      <td>76561197970982479</td>\n",
       "      <td>76561197970982479</td>\n",
       "      <td>277</td>\n",
       "    </tr>\n",
       "    <tr>\n",
       "      <th>2</th>\n",
       "      <td>30</td>\n",
       "      <td>Day of Defeat</td>\n",
       "      <td>7</td>\n",
       "      <td>76561197970982479</td>\n",
       "      <td>76561197970982479</td>\n",
       "      <td>277</td>\n",
       "    </tr>\n",
       "  </tbody>\n",
       "</table>\n",
       "</div>"
      ],
      "text/plain": [
       "   item_id              item_name  playtime_forever            user_id  \\\n",
       "0       10         Counter-Strike                 6  76561197970982479   \n",
       "1       20  Team Fortress Classic                 0  76561197970982479   \n",
       "2       30          Day of Defeat                 7  76561197970982479   \n",
       "\n",
       "            steam_id items_count  \n",
       "0  76561197970982479         277  \n",
       "1  76561197970982479         277  \n",
       "2  76561197970982479         277  "
      ]
     },
     "execution_count": 11,
     "metadata": {},
     "output_type": "execute_result"
    }
   ],
   "source": [
    "dfitems.head(3)"
   ]
  },
  {
   "cell_type": "code",
   "execution_count": 12,
   "metadata": {},
   "outputs": [],
   "source": [
    "new_parquetitems_file_path = 'C:/Users/Edgar/OneDrive/Escritorio/ProyectoFinal1HenryNuevo/ArchivosFinales/dfitems.parquet'\n",
    "\n",
    "# Guardar el DataFrame en formato Parquet\n",
    "dfitems.to_parquet(new_parquetitems_file_path, index=False, compression=\"gzip\")"
   ]
  },
  {
   "cell_type": "code",
   "execution_count": 13,
   "metadata": {},
   "outputs": [
    {
     "name": "stdout",
     "output_type": "stream",
     "text": [
      "Se ha guardado una muestra del 10% del dataset en C:/Users/Edgar/OneDrive/Escritorio/ProyectoFinal1HenryNuevo/ArchivosAPI/dfitemsAPI.parquet\n"
     ]
    }
   ],
   "source": [
    "# Tomar una muestra aleatoria del 10% del dataset para la API\n",
    "dfitemsAPI = dfitems.sample(frac=0.1, random_state=42)\n",
    "\n",
    "# Guardar la muestra en la ruta especificada\n",
    "ruta_salida = 'C:/Users/Edgar/OneDrive/Escritorio/ProyectoFinal1HenryNuevo/ArchivosAPI/dfitemsAPI.parquet'\n",
    "dfitemsAPI.to_parquet(ruta_salida, engine='pyarrow')\n",
    "\n",
    "print(f'Se ha guardado una muestra del 10% del dataset en {ruta_salida}')\n"
   ]
  }
 ],
 "metadata": {
  "kernelspec": {
   "display_name": "Python 3",
   "language": "python",
   "name": "python3"
  },
  "language_info": {
   "codemirror_mode": {
    "name": "ipython",
    "version": 3
   },
   "file_extension": ".py",
   "mimetype": "text/x-python",
   "name": "python",
   "nbconvert_exporter": "python",
   "pygments_lexer": "ipython3",
   "version": "3.10.0"
  }
 },
 "nbformat": 4,
 "nbformat_minor": 2
}
